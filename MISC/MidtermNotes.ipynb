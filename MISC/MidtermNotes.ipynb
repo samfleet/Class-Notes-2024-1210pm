{
 "cells": [
  {
   "cell_type": "code",
   "execution_count": 2,
   "id": "bcf22943-466d-45ea-8332-f6e53bda1aa7",
   "metadata": {},
   "outputs": [],
   "source": [
    " #!pip install sec_edgar_downloader\n",
    "\n",
    "import pandas as pd\n",
    "import os\n",
    "from sec_edgar_downloader import Downloader\n",
    "from tqdm import tqdm\n",
    "import glob"
   ]
  },
  {
   "cell_type": "code",
   "execution_count": 3,
   "id": "6c6600cb-188e-4996-82c7-3c23aba88e14",
   "metadata": {},
   "outputs": [],
   "source": [
    "d1 = Downloader(\"Lehigh\",\n",
    "                \"czt224@lehigh.edu\",\n",
    "                download_folder='10k_files')"
   ]
  },
  {
   "cell_type": "code",
   "execution_count": 4,
   "id": "b394e9a7-5277-4870-8bb4-bb7ce1779287",
   "metadata": {},
   "outputs": [
    {
     "data": {
      "text/plain": [
       "1"
      ]
     },
     "execution_count": 4,
     "metadata": {},
     "output_type": "execute_result"
    }
   ],
   "source": [
    "d1.get(\"10-K\", \"MSFT\", limit=1)"
   ]
  },
  {
   "cell_type": "code",
   "execution_count": 5,
   "id": "f137e869-0129-4058-aba5-5d512a45cb94",
   "metadata": {},
   "outputs": [
    {
     "ename": "NameError",
     "evalue": "name 'sp500' is not defined",
     "output_type": "error",
     "traceback": [
      "\u001b[0;31m---------------------------------------------------------------------------\u001b[0m",
      "\u001b[0;31mNameError\u001b[0m                                 Traceback (most recent call last)",
      "Cell \u001b[0;32mIn[5], line 6\u001b[0m\n\u001b[1;32m      1\u001b[0m tickers \u001b[38;5;241m=\u001b[39m [\u001b[38;5;124m\"\u001b[39m\u001b[38;5;124mMSFT\u001b[39m\u001b[38;5;124m\"\u001b[39m, \u001b[38;5;124m\"\u001b[39m\u001b[38;5;124mAMZN\u001b[39m\u001b[38;5;124m\"\u001b[39m,\u001b[38;5;124m\"\u001b[39m\u001b[38;5;124mAAPL\u001b[39m\u001b[38;5;124m\"\u001b[39m]\n\u001b[1;32m      3\u001b[0m \u001b[38;5;66;03m#this downloads all tickers - the txt file and the html\u001b[39;00m\n\u001b[1;32m      4\u001b[0m \n\u001b[1;32m      5\u001b[0m \u001b[38;5;66;03m# progess bar\u001b[39;00m\n\u001b[0;32m----> 6\u001b[0m \u001b[38;5;28;01mfor\u001b[39;00m ticker \u001b[38;5;129;01min\u001b[39;00m tqdm(sp500[\u001b[38;5;124m'\u001b[39m\u001b[38;5;124mSymbol\u001b[39m\u001b[38;5;124m'\u001b[39m]\u001b[38;5;241m.\u001b[39mhead()):\n\u001b[1;32m      7\u001b[0m     \n\u001b[1;32m      8\u001b[0m     \u001b[38;5;66;03m# if we already downloaded for this firm, skip\u001b[39;00m\n\u001b[1;32m      9\u001b[0m     \u001b[38;5;66;03m# todo\u001b[39;00m\n\u001b[1;32m     10\u001b[0m     \u001b[38;5;66;03m# if <condition>\u001b[39;00m\n\u001b[1;32m     11\u001b[0m     \u001b[38;5;66;03m# continue\u001b[39;00m\n\u001b[1;32m     12\u001b[0m     \n\u001b[1;32m     13\u001b[0m     \u001b[38;5;66;03m# download the filing\u001b[39;00m\n\u001b[1;32m     14\u001b[0m     d1\u001b[38;5;241m.\u001b[39mget(\u001b[38;5;124m'\u001b[39m\u001b[38;5;124m10-K\u001b[39m\u001b[38;5;124m'\u001b[39m, ticker,\n\u001b[1;32m     15\u001b[0m            \u001b[38;5;66;03m#last filing in 2022\u001b[39;00m\n\u001b[1;32m     16\u001b[0m            before \u001b[38;5;241m=\u001b[39m \u001b[38;5;124m'\u001b[39m\u001b[38;5;124m2022-12-31\u001b[39m\u001b[38;5;124m'\u001b[39m, limit\u001b[38;5;241m=\u001b[39m\u001b[38;5;241m1\u001b[39m,\n\u001b[1;32m     17\u001b[0m            \u001b[38;5;66;03m#get html\u001b[39;00m\n\u001b[1;32m     18\u001b[0m            download_details\u001b[38;5;241m=\u001b[39m\u001b[38;5;28;01mTrue\u001b[39;00m)\n\u001b[1;32m     19\u001b[0m     \u001b[38;5;66;03m#pause every once in a while \u001b[39;00m\n\u001b[1;32m     20\u001b[0m     \u001b[38;5;66;03m#delete the txt file\u001b[39;00m\n",
      "\u001b[0;31mNameError\u001b[0m: name 'sp500' is not defined"
     ]
    }
   ],
   "source": [
    "tickers = [\"MSFT\", \"AMZN\",\"AAPL\"]\n",
    "\n",
    "#this downloads all tickers - the txt file and the html\n",
    "\n",
    "# progess bar\n",
    "for ticker in tqdm(sp500['Symbol'].head()):\n",
    "    \n",
    "    # if we already downloaded for this firm, skip\n",
    "    # todo\n",
    "    # if <condition>\n",
    "    # continue\n",
    "    \n",
    "    # download the filing\n",
    "    d1.get('10-K', ticker,\n",
    "           #last filing in 2022\n",
    "           before = '2022-12-31', limit=1,\n",
    "           #get html\n",
    "           download_details=True)\n",
    "    #pause every once in a while \n",
    "    #delete the txt file\n",
    "    firm_folder = '10k_files/sec-edgar-filings/' + ticker\n",
    "    #inside of this is folder with random names, and inside of those might be txt files\n",
    "    for file in glob.glob(firm_folder+ '/10-K/*/*.txt'):\n",
    "        os.remove(file)"
   ]
  }
 ],
 "metadata": {
  "kernelspec": {
   "display_name": "Python 3 (ipykernel)",
   "language": "python",
   "name": "python3"
  },
  "language_info": {
   "codemirror_mode": {
    "name": "ipython",
    "version": 3
   },
   "file_extension": ".py",
   "mimetype": "text/x-python",
   "name": "python",
   "nbconvert_exporter": "python",
   "pygments_lexer": "ipython3",
   "version": "3.11.7"
  }
 },
 "nbformat": 4,
 "nbformat_minor": 5
}
